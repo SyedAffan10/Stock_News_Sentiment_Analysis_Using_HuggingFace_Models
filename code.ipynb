{
 "cells": [
  {
   "cell_type": "markdown",
   "metadata": {},
   "source": [
    "Simple Prediction from HuggingFace model"
   ]
  },
  {
   "cell_type": "code",
   "execution_count": 12,
   "metadata": {},
   "outputs": [
    {
     "data": {
      "text/plain": [
       "[[{'label': 'positive', 'score': 0.9996002316474915},\n",
       "  {'label': 'negative', 'score': 0.00033910301863215864},\n",
       "  {'label': 'neutral', 'score': 6.069672599551268e-05}]]"
      ]
     },
     "execution_count": 12,
     "metadata": {},
     "output_type": "execute_result"
    }
   ],
   "source": [
    "import requests\n",
    "\n",
    "API_URL = \"https://api-inference.huggingface.co/models/mrm8488/distilroberta-finetuned-financial-news-sentiment-analysis\"\n",
    "headers = {\"Authorization\": \"Bearer hf_\"}\n",
    "\n",
    "def query(payload):\n",
    "\tresponse = requests.post(API_URL, headers=headers, json=payload)\n",
    "\treturn response.json()\n",
    "\t\n",
    "output = query({\n",
    "\t\"inputs\": \"XPeng's American depositary receipts rise after the Chinese EV maker posts losses narrower than Wall Street expected.\",\n",
    "\t})\n",
    "output\n"
   ]
  },
  {
   "cell_type": "markdown",
   "metadata": {},
   "source": [
    "Complete Data Prediction on JSON File Using this HuggingFace model \"distilroberta-finetuned-financial-news-sentiment-analysis\""
   ]
  },
  {
   "cell_type": "code",
   "execution_count": 1,
   "metadata": {},
   "outputs": [
    {
     "name": "stdout",
     "output_type": "stream",
     "text": [
      "Model Accuracy: 52.00%\n"
     ]
    }
   ],
   "source": [
    "import json\n",
    "import requests\n",
    "\n",
    "with open('./sample_data.json', encoding='utf-8') as f:\n",
    "    data = json.load(f)\n",
    "\n",
    "# API details\n",
    "API_URL = \"https://api-inference.huggingface.co/models/mrm8488/distilroberta-finetuned-financial-news-sentiment-analysis\"\n",
    "headers = {\"Authorization\": \"Bearer hf_\"}\n",
    "\n",
    "def query(payload):\n",
    "    response = requests.post(API_URL, headers=headers, json=payload)\n",
    "    return response.json()\n",
    "\n",
    "correct_predictions = 0\n",
    "total_predictions = len(data)\n",
    "output_data = []\n",
    "\n",
    "for item in data:\n",
    "    text = item['text']\n",
    "    original_sentiment = item['sentiment']\n",
    "    \n",
    "    # Get prediction from the model\n",
    "    prediction = query({\"inputs\": text})\n",
    "    predicted_sentiment = prediction[0][0]['label']\n",
    "    \n",
    "    # Check if the prediction is correct\n",
    "    is_correct = (predicted_sentiment.lower() == original_sentiment.lower())\n",
    "    \n",
    "    if is_correct:\n",
    "        correct_predictions += 1\n",
    "    \n",
    "    # Add the results to the output data\n",
    "    output_data.append({\n",
    "        \"text\": text,\n",
    "        \"original_sentiment\": original_sentiment,\n",
    "        \"predicted_sentiment\": predicted_sentiment,\n",
    "        \"is_correct\": is_correct\n",
    "    })\n",
    "\n",
    "# Calculate the accuracy\n",
    "accuracy = correct_predictions / total_predictions * 100\n",
    "\n",
    "# Save the output to a new JSON file\n",
    "output_file = './1st_model_output.json'\n",
    "with open(output_file, 'w', encoding='utf-8') as f:\n",
    "    json.dump(output_data, f, indent=4, ensure_ascii=False)\n",
    "\n",
    "# Print the accuracy\n",
    "print(f\"Model Accuracy: {accuracy:.2f}%\")\n"
   ]
  },
  {
   "cell_type": "markdown",
   "metadata": {},
   "source": [
    "Complete Data Prediction on JSON File Using this HuggingFace model \"yiyanghkust/finbert-tone\""
   ]
  },
  {
   "cell_type": "code",
   "execution_count": 1,
   "metadata": {},
   "outputs": [
    {
     "name": "stdout",
     "output_type": "stream",
     "text": [
      "Model Accuracy: 37.00%\n"
     ]
    }
   ],
   "source": [
    "import json\n",
    "import requests\n",
    "\n",
    "with open('./sample_data.json', encoding='utf-8') as f:\n",
    "    data = json.load(f)\n",
    "\n",
    "# API details\n",
    "API_URL = \"https://api-inference.huggingface.co/models/yiyanghkust/finbert-tone\"\n",
    "headers = {\"Authorization\": \"Bearer hf_\"}\n",
    "\n",
    "def query(payload):\n",
    "    response = requests.post(API_URL, headers=headers, json=payload)\n",
    "    return response.json()\n",
    "\n",
    "# Process each item in the JSON file\n",
    "correct_predictions = 0\n",
    "total_predictions = len(data)\n",
    "output_data = []\n",
    "\n",
    "for item in data:\n",
    "    text = item['text']\n",
    "    original_sentiment = item['sentiment']\n",
    "    \n",
    "    # Get prediction from the model\n",
    "    prediction = query({\"inputs\": text})\n",
    "    predicted_sentiment = prediction[0][0]['label']\n",
    "    \n",
    "    # Check if the prediction is correct\n",
    "    is_correct = (predicted_sentiment.lower() == original_sentiment.lower())\n",
    "    \n",
    "    if is_correct:\n",
    "        correct_predictions += 1\n",
    "    \n",
    "    # Add the results to the output data\n",
    "    output_data.append({\n",
    "        \"text\": text,\n",
    "        \"original_sentiment\": original_sentiment,\n",
    "        \"predicted_sentiment\": predicted_sentiment,\n",
    "        \"is_correct\": is_correct\n",
    "    })\n",
    "\n",
    "# Calculate the accuracy\n",
    "accuracy = correct_predictions / total_predictions * 100\n",
    "\n",
    "# Save the output to a new JSON file\n",
    "output_file = './2nd_model_output.json'\n",
    "with open(output_file, 'w', encoding='utf-8') as f:\n",
    "    json.dump(output_data, f, indent=4, ensure_ascii=False)\n",
    "\n",
    "# Print the accuracy\n",
    "print(f\"Model Accuracy: {accuracy:.2f}%\")\n"
   ]
  },
  {
   "cell_type": "code",
   "execution_count": null,
   "metadata": {},
   "outputs": [],
   "source": []
  }
 ],
 "metadata": {
  "kernelspec": {
   "display_name": "sentiment",
   "language": "python",
   "name": "python3"
  },
  "language_info": {
   "codemirror_mode": {
    "name": "ipython",
    "version": 3
   },
   "file_extension": ".py",
   "mimetype": "text/x-python",
   "name": "python",
   "nbconvert_exporter": "python",
   "pygments_lexer": "ipython3",
   "version": "3.11.8"
  }
 },
 "nbformat": 4,
 "nbformat_minor": 2
}
